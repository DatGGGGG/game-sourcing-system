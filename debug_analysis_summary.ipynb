{
 "cells": [
  {
   "cell_type": "code",
   "execution_count": 1,
   "id": "3059a234-9921-4203-b50b-24aa1edda140",
   "metadata": {},
   "outputs": [],
   "source": [
    "import pandas as pd\n",
    "import openai\n",
    "import tiktoken\n",
    "import json\n",
    "import os\n",
    "from datetime import datetime\n",
    "from pathlib import Path\n",
    "from jsonschema import validate, ValidationError\n",
    "import re\n",
    "import math\n",
    "import time\n",
    "import csv\n",
    "import sys\n",
    "import chatgpt_helpers as ch\n",
    "from openai import OpenAI\n",
    "from typing import List, Any, Dict, Tuple"
   ]
  },
  {
   "cell_type": "code",
   "execution_count": 2,
   "id": "85b0370e-42a9-495c-8383-4a992d87695c",
   "metadata": {},
   "outputs": [],
   "source": [
    "game_url = \"https://www.taptap.cn/app/219082?os=android\""
   ]
  },
  {
   "cell_type": "code",
   "execution_count": 3,
   "id": "136df495-56c4-4ebc-8efd-5bbba75bec54",
   "metadata": {},
   "outputs": [],
   "source": [
    "# Extract app id\n",
    "match = re.search(r\"/app/(\\d+)\", game_url)\n",
    "if not match:\n",
    "    raise ValueError(f\"No TapTap app id found in URL: {game_url}\")\n",
    "app_id = match.group(1)"
   ]
  },
  {
   "cell_type": "code",
   "execution_count": 4,
   "id": "3a4c1fd5-b2e5-477d-a2b3-72eea8caf6f7",
   "metadata": {},
   "outputs": [],
   "source": [
    "# Get the path to the review csv file\n",
    "review_csv_path = \"output/{}/reviews_{}.csv\".format(app_id, app_id)"
   ]
  },
  {
   "cell_type": "code",
   "execution_count": 5,
   "id": "efc9420b-08ac-4bb8-9131-e8d8a84d582c",
   "metadata": {},
   "outputs": [],
   "source": [
    "# Load review data\n",
    "df = pd.read_csv(review_csv_path)\n",
    "reviews = df[['review_id', 'review_content_raw_text']].dropna().to_dict(orient=\"records\")"
   ]
  },
  {
   "cell_type": "code",
   "execution_count": 6,
   "id": "377b4300-bf26-4ccf-9a7e-5756e95f6d1b",
   "metadata": {},
   "outputs": [
    {
     "name": "stdout",
     "output_type": "stream",
     "text": [
      "Generating analysis summary...\n"
     ]
    }
   ],
   "source": [
    "# Generate analysis_summary report\n",
    "print(\"Generating analysis summary...\")"
   ]
  },
  {
   "cell_type": "code",
   "execution_count": 7,
   "id": "9ab981c5-8b64-4eef-b7b9-faa5a640eb8c",
   "metadata": {},
   "outputs": [],
   "source": [
    "out_dir = Path(f\"output/{app_id}/report\")\n",
    "out_dir.mkdir(parents=True, exist_ok=True)    \n",
    "detailed_review_analysis_output_path = out_dir / f\"detailed_review_analysis_{app_id}.csv\""
   ]
  },
  {
   "cell_type": "code",
   "execution_count": 8,
   "id": "e24e6e7c-44a4-458c-938f-fe053c0220eb",
   "metadata": {},
   "outputs": [],
   "source": [
    "df_review_analysis_results_for_synthesis = pd.read_csv(detailed_review_analysis_output_path)"
   ]
  },
  {
   "cell_type": "code",
   "execution_count": 9,
   "id": "538ab42f-2e3b-4686-99e0-2be4724e50cf",
   "metadata": {},
   "outputs": [],
   "source": [
    "df_reviews = pd.DataFrame(reviews)\n",
    "df_review_analysis_results_for_synthesis = pd.merge(\n",
    "    df_review_analysis_results_for_synthesis,\n",
    "    df_reviews,\n",
    "    left_on=\"q0\",\n",
    "    right_on=\"review_id\"\n",
    ")"
   ]
  },
  {
   "cell_type": "code",
   "execution_count": 10,
   "id": "28f5f9bc-df7c-4129-bd33-b8eea93257dc",
   "metadata": {},
   "outputs": [],
   "source": [
    "synthesis_prompts = dict()"
   ]
  },
  {
   "cell_type": "code",
   "execution_count": 11,
   "id": "c0291a09-15ea-41f3-af32-9bb68bb12d5f",
   "metadata": {
    "scrolled": true
   },
   "outputs": [
    {
     "name": "stdout",
     "output_type": "stream",
     "text": [
      "{'q2': 'You are an analyst. ONLY use the reviews in INPUT. Summarize what players say about sensitive content.\\nSensitive categories: Sexual Content/Nudity, Violence/Gore, Drugs/Alcohol/Tobacco, Religious/Political.\\n \\nRules:\\n- Output bulleted points only (no paragraphs, no JSON).\\n- Group points into short, factual insights (≤20 words each).\\n- Each bullet must end with review IDs in square brackets, e.g. [37988997, 35631039].\\n- Include ≤1 short quote (≤12 words) if useful for clarity.\\n- Output must strictly be in English\\n- If INPUT is empty, output: • No reviews matched.\\n', 'q3': \"You are an analyst. ONLY use the reviews provided in INPUT.\\nSummarize what players say about the game's core combat mechanics.\\nDefinition: Core combat mechanics = primary battle systems, controls, pacing, balance, skill systems, roles/classes, resource usage in combat, and related player strategy.\\n \\nRules:\\n- Output bulleted points only (no paragraphs, no JSON).\\n- Group points into short, factual insights (≤20 words each).\\n- Each bullet must end with review IDs in square brackets, e.g. [37988997, 35631039].\\n- Include ≤1 short quote (≤12 words) if useful for clarity.\\n- Output must strictly be in English\\n- If INPUT is empty, output: • No reviews matched.\\n\", 'q5': \"You are an analyst. ONLY use the reviews provided in INPUT.\\nSummarize the players' opinion on combat satisfaction rating.\\n \\nRules:\\n- Output bulleted points only (no paragraphs, no JSON).\\n- Group points into short, factual insights (≤20 words each).\\n- Each bullet must end with review IDs in square brackets, e.g. [37988997, 35631039].\\n- Include ≤1 short quote (≤12 words) if useful for clarity.\\n- Output must strictly be in English\\n- If INPUT is empty, output: • No reviews matched.\\n\", 'q6': 'You are an analyst. ONLY use the reviews provided in INPUT.\\nList the strategic/tactical features mentioned by players.\\n \\nRules:\\n- Output bulleted points only (no paragraphs, no JSON).\\n- Group points into short, factual insights (≤20 words each).\\n- Each bullet must end with review IDs in square brackets, e.g. [37988997, 35631039].\\n- Include ≤1 short quote (≤12 words) if useful for clarity.\\n- Output must strictly be in English\\n- If INPUT is empty, output: • No reviews matched.\\n', 'q8': \"You are an analyst. ONLY use the reviews provided in INPUT.\\nSummarize the players' opinion on strategic/tactical depth.\\n \\nRules:\\n- Output bulleted points only (no paragraphs, no JSON).\\n- Group points into short, factual insights (≤20 words each).\\n- Each bullet must end with review IDs in square brackets, e.g. [37988997, 35631039].\\n- Include ≤1 short quote (≤12 words) if useful for clarity.\\n- Output must strictly be in English\\n- If INPUT is empty, output: • No reviews matched.\\n\", 'q10': \"You are an analyst. ONLY use the reviews provided in INPUT.\\nSummarize the players' opinion on progression system.\\n \\nRules:\\n- Output bulleted points only (no paragraphs, no JSON).\\n- Group points into short, factual insights (≤20 words each).\\n- Each bullet must end with review IDs in square brackets, e.g. [37988997, 35631039].\\n- Include ≤1 short quote (≤12 words) if useful for clarity.\\n- Output must strictly be in English\\n- If INPUT is empty, output: • No reviews matched.\\n\", 'q12': \"You are an analyst. ONLY use the reviews provided in INPUT.\\nSummarize the players' opinion on hero balance.\\n \\nRules:\\n- Output bulleted points only (no paragraphs, no JSON).\\n- Group points into short, factual insights (≤20 words each).\\n- Each bullet must end with review IDs in square brackets, e.g. [37988997, 35631039].\\n- Include ≤1 short quote (≤12 words) if useful for clarity.\\n- Output must strictly be in English\\n- If INPUT is empty, output: • No reviews matched.\\n\", 'q14': \"You are an analyst. ONLY use the reviews provided in INPUT.\\nSummarize the players' opinion on hero/team build diversity.\\n \\nRules:\\n- Output bulleted points only (no paragraphs, no JSON).\\n- Group points into short, factual insights (≤20 words each).\\n- Each bullet must end with review IDs in square brackets, e.g. [37988997, 35631039].\\n- Include ≤1 short quote (≤12 words) if useful for clarity.\\n- Output must strictly be in English\\n- If INPUT is empty, output: • No reviews matched.\\n\", 'q15': 'You are an analyst. ONLY use the reviews provided in INPUT.\\nDescribe the secondary core loop of the game as mentioned by players.\\n \\nRules:\\n- Output bulleted points only (no paragraphs, no JSON).\\n- Group points into short, factual insights (≤20 words each).\\n- Each bullet must end with review IDs in square brackets, e.g. [37988997, 35631039].\\n- Include ≤1 short quote (≤12 words) if useful for clarity.\\n- Output must strictly be in English\\n- If INPUT is empty, output: • No reviews matched.\\n', 'q18': \"You are an analyst. ONLY use the reviews provided in INPUT.\\nSummarize the players' opinion on the simplicity rating of the secondary loop.\\n \\nRules:\\n- Output bulleted points only (no paragraphs, no JSON).\\n- Group points into short, factual insights (≤20 words each).\\n- Each bullet must end with review IDs in square brackets, e.g. [37988997, 35631039].\\n- Include ≤1 short quote (≤12 words) if useful for clarity.\\n- Output must strictly be in English\\n- If INPUT is empty, output: • No reviews matched.\\n\", 'q20': \"You are an analyst. ONLY use the reviews provided in INPUT.\\nSummarize the players' opinion on the resources earned from the secondary loop.\\n \\nRules:\\n- Output bulleted points only (no paragraphs, no JSON).\\n- Group points into short, factual insights (≤20 words each).\\n- Each bullet must end with review IDs in square brackets, e.g. [37988997, 35631039].\\n- Include ≤1 short quote (≤12 words) if useful for clarity.\\n- Output must strictly be in English\\n- If INPUT is empty, output: • No reviews matched.\\n\", 'q22': \"You are an analyst. ONLY use the reviews provided in INPUT.\\nSummarize the players' opinion on the frequency of content/meta updates.\\n \\nRules:\\n- Output bulleted points only (no paragraphs, no JSON).\\n- Group points into short, factual insights (≤20 words each).\\n- Each bullet must end with review IDs in square brackets, e.g. [37988997, 35631039].\\n- Include ≤1 short quote (≤12 words) if useful for clarity.\\n- Output must strictly be in English\\n- If INPUT is empty, output: • No reviews matched.\\n\", 'q24': 'You are an analyst. ONLY use the reviews provided in INPUT.\\nBriefly describe the gacha guarantee system as mentioned by players.\\n \\nRules:\\n- Output bulleted points only (no paragraphs, no JSON).\\n- Group points into short, factual insights (≤20 words each).\\n- Each bullet must end with review IDs in square brackets, e.g. [37988997, 35631039].\\n- Include ≤1 short quote (≤12 words) if useful for clarity.\\n- Output must strictly be in English\\n- If INPUT is empty, output: • No reviews matched.\\n', 'q26': \"You are an analyst. ONLY use the reviews provided in INPUT.\\nSummarize the players' opinion on the gacha pull price reasonableness.\\n \\nRules:\\n- Output bulleted points only (no paragraphs, no JSON).\\n- Group points into short, factual insights (≤20 words each).\\n- Each bullet must end with review IDs in square brackets, e.g. [37988997, 35631039].\\n- Include ≤1 short quote (≤12 words) if useful for clarity.\\n- Output must strictly be in English\\n- If INPUT is empty, output: • No reviews matched.\\n\", 'q28': \"You are an analyst. ONLY use the reviews provided in INPUT.\\nSummarize the players' opinion on major feature access for non-paying users.\\n \\nRules:\\n- Output bulleted points only (no paragraphs, no JSON).\\n- Group points into short, factual insights (≤20 words each).\\n- Each bullet must end with review IDs in square brackets, e.g. [37988997, 35631039].\\n- Include ≤1 short quote (≤12 words) if useful for clarity.\\n- Output must strictly be in English\\n- If INPUT is empty, output: • No reviews matched.\\n\", 'q30': \"You are an analyst. ONLY use the reviews provided in INPUT.\\nSummarize the players' opinion on spending pressure.\\n \\nRules:\\n- Output bulleted points only (no paragraphs, no JSON).\\n- Group points into short, factual insights (≤20 words each).\\n- Each bullet must end with review IDs in square brackets, e.g. [37988997, 35631039].\\n- Include ≤1 short quote (≤12 words) if useful for clarity.\\n- Output must strictly be in English\\n- If INPUT is empty, output: • No reviews matched.\\n\", 'q32': \"You are an analyst. ONLY use the reviews provided in INPUT.\\nSummarize the players' opinion on free rewards quality/quantity.\\n \\nRules:\\n- Output bulleted points only (no paragraphs, no JSON).\\n- Group points into short, factual insights (≤20 words each).\\n- Each bullet must end with review IDs in square brackets, e.g. [37988997, 35631039].\\n- Include ≤1 short quote (≤12 words) if useful for clarity.\\n- Output must strictly be in English\\n- If INPUT is empty, output: • No reviews matched.\\n\", 'q34': 'You are an analyst. ONLY use the reviews provided in INPUT.\\nBriefly describe the IP integrated into the game as mentioned by players.\\n \\nRules:\\n- Output bulleted points only (no paragraphs, no JSON).\\n- Group points into short, factual insights (≤20 words each).\\n- Each bullet must end with review IDs in square brackets, e.g. [37988997, 35631039].\\n- Include ≤1 short quote (≤12 words) if useful for clarity.\\n- Output must strictly be in English\\n- If INPUT is empty, output: • No reviews matched.\\n', 'q36': \"You are an analyst. ONLY use the reviews provided in INPUT.\\nSummarize the players' opinion on IP integration depth.\\n \\nRules:\\n- Output bulleted points only (no paragraphs, no JSON).\\n- Group points into short, factual insights (≤20 words each).\\n- Each bullet must end with review IDs in square brackets, e.g. [37988997, 35631039].\\n- Include ≤1 short quote (≤12 words) if useful for clarity.\\n- Output must strictly be in English\\n- If INPUT is empty, output: • No reviews matched.\\n\", 'q38': \"You are an analyst. ONLY use the reviews provided in INPUT.\\nSummarize the players' opinion on lightness of installation file.\\n \\nRules:\\n- Output bulleted points only (no paragraphs, no JSON).\\n- Group points into short, factual insights (≤20 words each).\\n- Each bullet must end with review IDs in square brackets, e.g. [37988997, 35631039].\\n- Include ≤1 short quote (≤12 words) if useful for clarity.\\n- Output must strictly be in English\\n- If INPUT is empty, output: • No reviews matched.\\n\", 'q40': \"You are an analyst. ONLY use the reviews provided in INPUT.\\nSummarize the players' opinion on in-game download experience.\\n \\nRules:\\n- Output bulleted points only (no paragraphs, no JSON).\\n- Group points into short, factual insights (≤20 words each).\\n- Each bullet must end with review IDs in square brackets, e.g. [37988997, 35631039].\\n- Include ≤1 short quote (≤12 words) if useful for clarity.\\n- Output must strictly be in English\\n- If INPUT is empty, output: • No reviews matched.\\n\", 'q41': 'You are an analyst. ONLY use the reviews provided in INPUT.\\nList issues mentioned by the players other than the following issues: sensitive content, core combat mechanics, strategic/tactical features, game progression, hero balance, hero/team build diversity, secondary game loop, frequency of content/meta updates, gacha guarantee system, gacha pull price, feature access for non-paying users, quality/quantity of free rewards, IP integration, lightness of installation file, in-game download experience\\n \\nRules:\\n- Output bulleted points only (no paragraphs, no JSON).\\n- Group points into short, factual insights (≤20 words each).\\n- Each bullet must end with review IDs in square brackets, e.g. [37988997, 35631039].\\n- Include ≤1 short quote (≤12 words) if useful for clarity.\\n- Output must strictly be in English\\n- If INPUT is empty, output: • No reviews matched.\\n'}\n"
     ]
    }
   ],
   "source": [
    "for q, p in ch.synthesis_prompts_core_parts.items():\n",
    "    current_full_prompt = p + \"\\n \\n\" + ch.rules\n",
    "    synthesis_prompts[q] = current_full_prompt\n",
    "\n",
    "print(synthesis_prompts)"
   ]
  },
  {
   "cell_type": "code",
   "execution_count": 12,
   "id": "2b824443-e6d6-4c47-bd06-f19199902810",
   "metadata": {},
   "outputs": [
    {
     "data": {
      "text/plain": [
       "dict_keys(['q2', 'q3', 'q5', 'q6', 'q8', 'q10', 'q12', 'q14', 'q15', 'q18', 'q20', 'q22', 'q24', 'q26', 'q28', 'q30', 'q32', 'q34', 'q36', 'q38', 'q40', 'q41'])"
      ]
     },
     "execution_count": 12,
     "metadata": {},
     "output_type": "execute_result"
    }
   ],
   "source": [
    "synthesis_prompts.keys()"
   ]
  },
  {
   "cell_type": "code",
   "execution_count": 13,
   "id": "b29cec87-6b8b-4ac2-830b-d982080220b7",
   "metadata": {},
   "outputs": [
    {
     "name": "stdout",
     "output_type": "stream",
     "text": [
      "You are an analyst. ONLY use the reviews in INPUT. Summarize what players say about sensitive content.\n",
      "Sensitive categories: Sexual Content/Nudity, Violence/Gore, Drugs/Alcohol/Tobacco, Religious/Political.\n",
      " \n",
      "Rules:\n",
      "- Output bulleted points only (no paragraphs, no JSON).\n",
      "- Group points into short, factual insights (≤20 words each).\n",
      "- Each bullet must end with review IDs in square brackets, e.g. [37988997, 35631039].\n",
      "- Include ≤1 short quote (≤12 words) if useful for clarity.\n",
      "- Output must strictly be in English\n",
      "- If INPUT is empty, output: • No reviews matched.\n",
      "\n"
     ]
    }
   ],
   "source": [
    "print(synthesis_prompts[\"q2\"])"
   ]
  },
  {
   "cell_type": "code",
   "execution_count": 14,
   "id": "7e63a73b-3ce8-45c7-8a46-db94e7622196",
   "metadata": {},
   "outputs": [],
   "source": [
    "df_rows_with_nonna_values_for_current_question = df_review_analysis_results_for_synthesis[\n",
    "    df_review_analysis_results_for_synthesis[\"q2\"].notna()\n",
    "][[\"review_id\", \"review_content_raw_text\"]]"
   ]
  },
  {
   "cell_type": "code",
   "execution_count": 15,
   "id": "50e954f2-2b99-456e-ad90-ec0769000823",
   "metadata": {},
   "outputs": [
    {
     "data": {
      "text/html": [
       "<div>\n",
       "<style scoped>\n",
       "    .dataframe tbody tr th:only-of-type {\n",
       "        vertical-align: middle;\n",
       "    }\n",
       "\n",
       "    .dataframe tbody tr th {\n",
       "        vertical-align: top;\n",
       "    }\n",
       "\n",
       "    .dataframe thead th {\n",
       "        text-align: right;\n",
       "    }\n",
       "</style>\n",
       "<table border=\"1\" class=\"dataframe\">\n",
       "  <thead>\n",
       "    <tr style=\"text-align: right;\">\n",
       "      <th></th>\n",
       "      <th>review_id</th>\n",
       "      <th>review_content_raw_text</th>\n",
       "    </tr>\n",
       "  </thead>\n",
       "  <tbody>\n",
       "    <tr>\n",
       "      <th>274</th>\n",
       "      <td>31736948</td>\n",
       "      <td>李清照都齐刘海漏大腿了，就给我个漏胸漏腹肌的李白在封面，还是你游也是要走个媚男路线不要女玩家...</td>\n",
       "    </tr>\n",
       "    <tr>\n",
       "      <th>556</th>\n",
       "      <td>27369929</td>\n",
       "      <td>期待，画风好温柔！不知道玩法是什么（不希望是卡牌🙏）然后希望可以科普历史？(●—●)</td>\n",
       "    </tr>\n",
       "    <tr>\n",
       "      <th>574</th>\n",
       "      <td>26895121</td>\n",
       "      <td>先给个四星观望一下吧。\\n四星好评的原因就一个，是游戏介绍上说可以操作中国和其它所有文明争锋...</td>\n",
       "    </tr>\n",
       "    <tr>\n",
       "      <th>601</th>\n",
       "      <td>26594372</td>\n",
       "      <td>一点玩法和介绍都没有，画风还是偏女性向的，这你真敢叫华夏，能过审吗？</td>\n",
       "    </tr>\n",
       "    <tr>\n",
       "      <th>618</th>\n",
       "      <td>26498013</td>\n",
       "      <td>别像江南百景图一样吃历史饭还侮辱历史</td>\n",
       "    </tr>\n",
       "    <tr>\n",
       "      <th>619</th>\n",
       "      <td>26477738</td>\n",
       "      <td>希望我们可以是一个历史的旁观人，而不是历史的参与者。</td>\n",
       "    </tr>\n",
       "    <tr>\n",
       "      <th>638</th>\n",
       "      <td>26137664</td>\n",
       "      <td>三星吧，不给五星是因为你们只有这几张可以称为照片的东西，并没有实机演示，我也不好判断游戏的好...</td>\n",
       "    </tr>\n",
       "    <tr>\n",
       "      <th>640</th>\n",
       "      <td>26075629</td>\n",
       "      <td>别夹私货，颠倒黑白，江南百景图是前车之鉴。</td>\n",
       "    </tr>\n",
       "    <tr>\n",
       "      <th>641</th>\n",
       "      <td>26074897</td>\n",
       "      <td>期待，希望尊重历史</td>\n",
       "    </tr>\n",
       "    <tr>\n",
       "      <th>644</th>\n",
       "      <td>26003876</td>\n",
       "      <td>虽然不知道高丽有什么资格跟其他几个放在一起，但看在服饰的份上还是先打个五星期待一下吧</td>\n",
       "    </tr>\n",
       "    <tr>\n",
       "      <th>649</th>\n",
       "      <td>25970191</td>\n",
       "      <td>期待ing，喜欢历史，立绘也非常好看！！心动啦！期待更多人物，剧情希望精彩！与史结合才不会误...</td>\n",
       "    </tr>\n",
       "  </tbody>\n",
       "</table>\n",
       "</div>"
      ],
      "text/plain": [
       "     review_id                            review_content_raw_text\n",
       "274   31736948  李清照都齐刘海漏大腿了，就给我个漏胸漏腹肌的李白在封面，还是你游也是要走个媚男路线不要女玩家...\n",
       "556   27369929         期待，画风好温柔！不知道玩法是什么（不希望是卡牌🙏）然后希望可以科普历史？(●—●)\n",
       "574   26895121  先给个四星观望一下吧。\\n四星好评的原因就一个，是游戏介绍上说可以操作中国和其它所有文明争锋...\n",
       "601   26594372                 一点玩法和介绍都没有，画风还是偏女性向的，这你真敢叫华夏，能过审吗？\n",
       "618   26498013                                 别像江南百景图一样吃历史饭还侮辱历史\n",
       "619   26477738                         希望我们可以是一个历史的旁观人，而不是历史的参与者。\n",
       "638   26137664  三星吧，不给五星是因为你们只有这几张可以称为照片的东西，并没有实机演示，我也不好判断游戏的好...\n",
       "640   26075629                              别夹私货，颠倒黑白，江南百景图是前车之鉴。\n",
       "641   26074897                                          期待，希望尊重历史\n",
       "644   26003876         虽然不知道高丽有什么资格跟其他几个放在一起，但看在服饰的份上还是先打个五星期待一下吧\n",
       "649   25970191  期待ing，喜欢历史，立绘也非常好看！！心动啦！期待更多人物，剧情希望精彩！与史结合才不会误..."
      ]
     },
     "execution_count": 15,
     "metadata": {},
     "output_type": "execute_result"
    }
   ],
   "source": [
    "df_rows_with_nonna_values_for_current_question"
   ]
  },
  {
   "cell_type": "code",
   "execution_count": 16,
   "id": "56ee448d-fb7f-46a9-a2e4-42fa51731753",
   "metadata": {},
   "outputs": [],
   "source": [
    "relevant_reviews = df_rows_with_nonna_values_for_current_question.to_dict(orient=\"records\")"
   ]
  },
  {
   "cell_type": "code",
   "execution_count": 17,
   "id": "408499e1-3edf-4f52-8d45-90ff668fc41c",
   "metadata": {},
   "outputs": [
    {
     "data": {
      "text/plain": [
       "[{'review_id': 31736948,\n",
       "  'review_content_raw_text': '李清照都齐刘海漏大腿了，就给我个漏胸漏腹肌的李白在封面，还是你游也是要走个媚男路线不要女玩家？别整这恶心人的事嗷。'},\n",
       " {'review_id': 27369929,\n",
       "  'review_content_raw_text': '期待，画风好温柔！不知道玩法是什么（不希望是卡牌🙏）然后希望可以科普历史？(●—●)'},\n",
       " {'review_id': 26895121,\n",
       "  'review_content_raw_text': '先给个四星观望一下吧。\\n四星好评的原因就一个，是游戏介绍上说可以操作中国和其它所有文明争锋。\\n不过不知道具体是什么模式，是《文明》这个游戏那样，还是像光荣的《三国志》做全球地图？'},\n",
       " {'review_id': 26594372,\n",
       "  'review_content_raw_text': '一点玩法和介绍都没有，画风还是偏女性向的，这你真敢叫华夏，能过审吗？'},\n",
       " {'review_id': 26498013, 'review_content_raw_text': '别像江南百景图一样吃历史饭还侮辱历史'},\n",
       " {'review_id': 26477738,\n",
       "  'review_content_raw_text': '希望我们可以是一个历史的旁观人，而不是历史的参与者。'},\n",
       " {'review_id': 26137664,\n",
       "  'review_content_raw_text': '三星吧，不给五星是因为你们只有这几张可以称为照片的东西，并没有实机演示，我也不好判断游戏的好坏，画风还可以，我想这些可以戳中一些lsp了，不过，各个时代的历史人物都应该有自我的风格，三皇五帝，王八之气还是有的，太阴柔了，不符合帝王的气质，但是请尊重历史，时代的演变造就了精彩绝伦人人沉迷的历史，说实话，现在有些国风，就跟抄袭江南百景图一样(应该我记着是这样，狗头保命)，换汤不换药，玩家不是傻子，都能看的出来游戏的好坏，那怕你这游戏是自我的突破在同行内(就那最近的我看好的游戏来说《小小五千年》，和最近要出来的《无悔华夏》感觉一下get到了我的点)存在很多bug，这些都可以原谅，慢慢的改善也行，就像孩子的成长一样总会有磕磕绊绊很正常，不要抄袭，再说一遍，不要抄袭！当然我也期待你们游戏的内测，我已经预约了，加油(在小声说一句不要氪，不要氪🙏)'},\n",
       " {'review_id': 26075629, 'review_content_raw_text': '别夹私货，颠倒黑白，江南百景图是前车之鉴。'},\n",
       " {'review_id': 26074897, 'review_content_raw_text': '期待，希望尊重历史'},\n",
       " {'review_id': 26003876,\n",
       "  'review_content_raw_text': '虽然不知道高丽有什么资格跟其他几个放在一起，但看在服饰的份上还是先打个五星期待一下吧'},\n",
       " {'review_id': 25970191,\n",
       "  'review_content_raw_text': '期待ing，喜欢历史，立绘也非常好看！！心动啦！期待更多人物，剧情希望精彩！与史结合才不会误导不懂多少的人。希望涉及面多一些，例如诗词歌赋，传统美德等诸多美好文明，也希望在描写与叙说一个人的时候可以从两面来谈。😽😽'}]"
      ]
     },
     "execution_count": 17,
     "metadata": {},
     "output_type": "execute_result"
    }
   ],
   "source": [
    "relevant_reviews"
   ]
  },
  {
   "cell_type": "code",
   "execution_count": 18,
   "id": "cd132492-c1fb-4784-b524-9116fdc89cb0",
   "metadata": {},
   "outputs": [
    {
     "name": "stdout",
     "output_type": "stream",
     "text": [
      "⚙️  Synthesizing in 1 chunk(s)...\n",
      "   ✅ Chunk 1/1 summarized (≈158 tokens).\n"
     ]
    }
   ],
   "source": [
    "current_synthesized_answer = ch.synthesize_long_form_answers_with_ai(relevant_reviews, synthesis_prompts[\"q2\"])"
   ]
  },
  {
   "cell_type": "code",
   "execution_count": 19,
   "id": "72f8ad21-b121-4bef-842f-f7887027aa96",
   "metadata": {},
   "outputs": [
    {
     "data": {
      "text/plain": [
       "'- Sexualized character art criticized: thigh-revealing Li Qingzhao and shirtless/abs Li Bai. [31736948]\\n- Art seen as pandering to lecherous players and feminizing emperors. [26137664]\\n- Requests to respect history; avoid distortion, bias, or agenda insertion. [26498013, 26075629, 26074897, 25970191, 26137664]\\n- Concern that female-oriented art under \"Huaxia\" may face censorship. [26594372]\\n- Debate over including Goryeo with other civilizations; national sensitivity noted. [26003876]\\n- Prefer being historical observers, not participants, to reduce rewriting concerns. [26477738]'"
      ]
     },
     "execution_count": 19,
     "metadata": {},
     "output_type": "execute_result"
    }
   ],
   "source": [
    "current_synthesized_answer"
   ]
  },
  {
   "cell_type": "code",
   "execution_count": 27,
   "id": "5957c4e0-5643-4de0-84ec-070d8ed94975",
   "metadata": {},
   "outputs": [],
   "source": [
    "# Synthesizing long form answers"
   ]
  },
  {
   "cell_type": "code",
   "execution_count": 28,
   "id": "54f45809-5a4b-4010-bd2d-b01eb2386b3d",
   "metadata": {},
   "outputs": [],
   "source": [
    "items = relevant_reviews\n",
    "prompt = synthesis_prompts[\"q2\"]"
   ]
  },
  {
   "cell_type": "code",
   "execution_count": 43,
   "id": "5296d321-51ad-4510-b59b-7a69ac37378f",
   "metadata": {},
   "outputs": [
    {
     "data": {
      "text/plain": [
       "'You are an analyst. ONLY use the reviews in INPUT. Summarize what players say about sensitive content.\\nSensitive categories: Sexual Content/Nudity, Violence/Gore, Drugs/Alcohol/Tobacco, Religious/Political.\\n \\nRules:\\n- Output bulleted points only (no paragraphs, no JSON).\\n- Group points into short, factual insights (≤20 words each).\\n- Each bullet must end with review IDs in square brackets, e.g. [37988997, 35631039].\\n- Include ≤1 short quote (≤12 words) if useful for clarity.\\n- Output must strictly be in English\\n- If INPUT is empty, output: • No reviews matched.\\n'"
      ]
     },
     "execution_count": 43,
     "metadata": {},
     "output_type": "execute_result"
    }
   ],
   "source": [
    "prompt"
   ]
  },
  {
   "cell_type": "code",
   "execution_count": 30,
   "id": "7cb7bfce-0d3a-4555-a1ac-8e22339aca3d",
   "metadata": {},
   "outputs": [],
   "source": [
    "chunks = ch._chunk_items_by_tokens(items, prompt)"
   ]
  },
  {
   "cell_type": "code",
   "execution_count": 48,
   "id": "6a921ad5-ff81-4e6f-aafa-d2545306a2c5",
   "metadata": {},
   "outputs": [],
   "source": [
    "partial_summaries = []"
   ]
  },
  {
   "cell_type": "code",
   "execution_count": 51,
   "id": "ea6605f8-0328-4f45-951b-f27358c0cfda",
   "metadata": {},
   "outputs": [
    {
     "name": "stdout",
     "output_type": "stream",
     "text": [
      "800\n",
      "   ✅ Chunk 1/1 summarized (≈7 tokens).\n"
     ]
    }
   ],
   "source": [
    "for idx, chunk in enumerate(chunks, 1):\n",
    "    user_content = \"INPUT:\\n\" + ch._json({\"items\": chunk})\n",
    "    print(ch.CHUNK_OUTPUT_MAX)\n",
    "    summary = ch._call_response(ch.MODEL, prompt, user_content, ch.CHUNK_OUTPUT_MAX)\n",
    "    partial_summaries.append(summary)\n",
    "    print(f\"   ✅ Chunk {idx}/{len(chunks)} summarized (≈{ch.count_tokens(summary)} tokens).\")"
   ]
  },
  {
   "cell_type": "code",
   "execution_count": 52,
   "id": "adadf040-d1e2-4965-991b-de7a5b5e12c8",
   "metadata": {},
   "outputs": [
    {
     "data": {
      "text/plain": [
       "['', '']"
      ]
     },
     "execution_count": 52,
     "metadata": {},
     "output_type": "execute_result"
    }
   ],
   "source": [
    "partial_summaries"
   ]
  },
  {
   "cell_type": "code",
   "execution_count": 40,
   "id": "fb218f5c-51b6-45c8-91e2-2c9245362061",
   "metadata": {},
   "outputs": [],
   "source": [
    "user_content = \"INPUT:\\n\" + ch._json({\"items\": chunk})"
   ]
  },
  {
   "cell_type": "code",
   "execution_count": 42,
   "id": "0b9306b1-71f1-4573-a800-20eeef0ce30b",
   "metadata": {},
   "outputs": [
    {
     "name": "stdout",
     "output_type": "stream",
     "text": [
      "INPUT:\n",
      "{\"items\":[{\"review_id\":31736948,\"review_content_raw_text\":\"李清照都齐刘海漏大腿了，就给我个漏胸漏腹肌的李白在封面，还是你游也是要走个媚男路线不要女玩家？别整这恶心人的事嗷。\"},{\"review_id\":27369929,\"review_content_raw_text\":\"期待，画风好温柔！不知道玩法是什么（不希望是卡牌🙏）然后希望可以科普历史？(●—●)\"},{\"review_id\":26895121,\"review_content_raw_text\":\"先给个四星观望一下吧。\\n四星好评的原因就一个，是游戏介绍上说可以操作中国和其它所有文明争锋。\\n不过不知道具体是什么模式，是《文明》这个游戏那样，还是像光荣的《三国志》做全球地图？\"},{\"review_id\":26594372,\"review_content_raw_text\":\"一点玩法和介绍都没有，画风还是偏女性向的，这你真敢叫华夏，能过审吗？\"},{\"review_id\":26498013,\"review_content_raw_text\":\"别像江南百景图一样吃历史饭还侮辱历史\"},{\"review_id\":26477738,\"review_content_raw_text\":\"希望我们可以是一个历史的旁观人，而不是历史的参与者。\"},{\"review_id\":26137664,\"review_content_raw_text\":\"三星吧，不给五星是因为你们只有这几张可以称为照片的东西，并没有实机演示，我也不好判断游戏的好坏，画风还可以，我想这些可以戳中一些lsp了，不过，各个时代的历史人物都应该有自我的风格，三皇五帝，王八之气还是有的，太阴柔了，不符合帝王的气质，但是请尊重历史，时代的演变造就了精彩绝伦人人沉迷的历史，说实话，现在有些国风，就跟抄袭江南百景图一样(应该我记着是这样，狗头保命)，换汤不换药，玩家不是傻子，都能看的出来游戏的好坏，那怕你这游戏是自我的突破在同行内(就那最近的我看好的游戏来说《小小五千年》，和最近要出来的《无悔华夏》感觉一下get到了我的点)存在很多bug，这些都可以原谅，慢慢的改善也行，就像孩子的成长一样总会有磕磕绊绊很正常，不要抄袭，再说一遍，不要抄袭！当然我也期待你们游戏的内测，我已经预约了，加油(在小声说一句不要氪，不要氪🙏)\"},{\"review_id\":26075629,\"review_content_raw_text\":\"别夹私货，颠倒黑白，江南百景图是前车之鉴。\"},{\"review_id\":26074897,\"review_content_raw_text\":\"期待，希望尊重历史\"},{\"review_id\":26003876,\"review_content_raw_text\":\"虽然不知道高丽有什么资格跟其他几个放在一起，但看在服饰的份上还是先打个五星期待一下吧\"},{\"review_id\":25970191,\"review_content_raw_text\":\"期待ing，喜欢历史，立绘也非常好看！！心动啦！期待更多人物，剧情希望精彩！与史结合才不会误导不懂多少的人。希望涉及面多一些，例如诗词歌赋，传统美德等诸多美好文明，也希望在描写与叙说一个人的时候可以从两面来谈。😽😽\"}]}\n"
     ]
    }
   ],
   "source": [
    "print(user_content)"
   ]
  },
  {
   "cell_type": "code",
   "execution_count": 44,
   "id": "4faa2005-b0b3-4fa7-9ee2-408091489369",
   "metadata": {},
   "outputs": [
    {
     "data": {
      "text/plain": [
       "800"
      ]
     },
     "execution_count": 44,
     "metadata": {},
     "output_type": "execute_result"
    }
   ],
   "source": [
    "ch.CHUNK_OUTPUT_MAX"
   ]
  },
  {
   "cell_type": "code",
   "execution_count": 47,
   "id": "6647b98f-d728-428a-9e30-e49528100191",
   "metadata": {},
   "outputs": [
    {
     "data": {
      "text/plain": [
       "255"
      ]
     },
     "execution_count": 47,
     "metadata": {},
     "output_type": "execute_result"
    }
   ],
   "source": [
    "ch.count_tokens(partial_summaries[-1],ch.MODEL)"
   ]
  },
  {
   "cell_type": "code",
   "execution_count": null,
   "id": "cec2788e-4511-4265-9f7a-6010085291d3",
   "metadata": {},
   "outputs": [],
   "source": []
  }
 ],
 "metadata": {
  "kernelspec": {
   "display_name": "Python 3 (ipykernel)",
   "language": "python",
   "name": "python3"
  },
  "language_info": {
   "codemirror_mode": {
    "name": "ipython",
    "version": 3
   },
   "file_extension": ".py",
   "mimetype": "text/x-python",
   "name": "python",
   "nbconvert_exporter": "python",
   "pygments_lexer": "ipython3",
   "version": "3.12.6"
  }
 },
 "nbformat": 4,
 "nbformat_minor": 5
}
